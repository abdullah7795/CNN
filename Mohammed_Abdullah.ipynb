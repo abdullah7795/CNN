{
  "nbformat": 4,
  "nbformat_minor": 0,
  "metadata": {
    "colab": {
      "provenance": []
    },
    "kernelspec": {
      "name": "python3",
      "display_name": "Python 3"
    },
    "language_info": {
      "name": "python"
    }
  },
  "cells": [
    {
      "cell_type": "code",
      "execution_count": null,
      "metadata": {
        "colab": {
          "base_uri": "https://localhost:8080/"
        },
        "id": "E7T-T0bgDlkm",
        "outputId": "a39a066b-8c60-4dd4-a6c2-f137feb9cbeb"
      },
      "outputs": [
        {
          "output_type": "stream",
          "name": "stdout",
          "text": [
            "Drive already mounted at /content/drive/; to attempt to forcibly remount, call drive.mount(\"/content/drive/\", force_remount=True).\n"
          ]
        }
      ],
      "source": [
        " from google.colab import drive\n",
        "drive.mount(\"/content/drive/\")"
      ]
    },
    {
      "cell_type": "code",
      "source": [
        "import numpy as np\n",
        "from google.colab.patches import cv2_imshow\n",
        "import cv2\n",
        "import matplotlib.pyplot as plt\n",
        "from keras.models import Sequential\n",
        "from keras.layers import Conv2D, MaxPooling2D, Flatten, Dense, Dropout"
      ],
      "metadata": {
        "id": "G0wTEqviDpLH"
      },
      "execution_count": null,
      "outputs": []
    },
    {
      "cell_type": "code",
      "source": [
        "# import required module\n",
        "from pathlib import Path\n",
        "\n",
        "# get the path/directory\n",
        "folder_dir = '/content/drive/MyDrive/data/CNN/1st_train/horizontal/'\n",
        "\n",
        "# iterate over files in\n",
        "# that directory\n",
        "images = Path(folder_dir).glob('*.png')\n",
        "for image in images:\n",
        "\tprint(image)\n"
      ],
      "metadata": {
        "id": "nYVtfOqc381u"
      },
      "execution_count": null,
      "outputs": []
    },
    {
      "cell_type": "code",
      "source": [
        "#reading the images from drive\n",
        "# import the modules\n",
        "\n",
        "\n",
        "import os\n",
        "from os import listdir\n",
        "a=[]\n",
        "# get the path/directory\n",
        "folder_dir =\"/content/drive/MyDrive/data/CNN/lab_internals/1st_train/horizontal/\"\n",
        "for images in os.listdir(folder_dir):\n",
        "  if (images.endswith(\".png\")):\n",
        "    x=folder_dir+images\n",
        "    a.append(cv2.imread(x))\n",
        "horizontal=np.array(a)\n",
        "a=[]\n",
        "# get the path/directory\n",
        "folder_dir =\"/content/drive/MyDrive/data/CNN/lab_internals/1st_train/vertical/\"\n",
        "for images in os.listdir(folder_dir):\n",
        "  if (images.endswith(\".png\")):\n",
        "    x=folder_dir+images\n",
        "    a.append(cv2.imread(x))\n",
        "a=a[0:200]\n",
        "vertical=np.array(a)\n",
        "\n",
        "\n"
      ],
      "metadata": {
        "id": "b-bXt49YDq47"
      },
      "execution_count": null,
      "outputs": []
    },
    {
      "cell_type": "code",
      "source": [
        "# print the number of images in each class\n",
        "print(len(horizontal))\n",
        "print(len(vertical))"
      ],
      "metadata": {
        "colab": {
          "base_uri": "https://localhost:8080/"
        },
        "id": "5S8ZKHv-HuVl",
        "outputId": "d7d095b2-cde2-4c84-c743-2298c72f4377"
      },
      "execution_count": null,
      "outputs": [
        {
          "output_type": "stream",
          "name": "stdout",
          "text": [
            "255\n",
            "200\n"
          ]
        }
      ]
    },
    {
      "cell_type": "code",
      "source": [
        "# as we can see we have im-balance data set so we will Augment our data to make it balanced using Augmentor"
      ],
      "metadata": {
        "id": "frnO64SLIVHJ"
      },
      "execution_count": null,
      "outputs": []
    },
    {
      "cell_type": "code",
      "source": [
        "pip install Augmentor"
      ],
      "metadata": {
        "colab": {
          "base_uri": "https://localhost:8080/"
        },
        "id": "Z--z_WVhE5t6",
        "outputId": "bc0e57e9-2d58-42be-fa3a-cde418033f94"
      },
      "execution_count": null,
      "outputs": [
        {
          "output_type": "stream",
          "name": "stdout",
          "text": [
            "Looking in indexes: https://pypi.org/simple, https://us-python.pkg.dev/colab-wheels/public/simple/\n",
            "Requirement already satisfied: Augmentor in /usr/local/lib/python3.10/dist-packages (0.2.12)\n",
            "Requirement already satisfied: Pillow>=5.2.0 in /usr/local/lib/python3.10/dist-packages (from Augmentor) (8.4.0)\n",
            "Requirement already satisfied: tqdm>=4.9.0 in /usr/local/lib/python3.10/dist-packages (from Augmentor) (4.65.0)\n",
            "Requirement already satisfied: numpy>=1.11.0 in /usr/local/lib/python3.10/dist-packages (from Augmentor) (1.22.4)\n"
          ]
        }
      ]
    },
    {
      "cell_type": "code",
      "source": [
        "\n",
        "# # Importing necessary library\n",
        "# import Augmentor\n",
        "# # Passing the path of the image directory\n",
        "# p = Augmentor.Pipeline(\"/content/drive/MyDrive/data/CNN/lab_internals/1st_train/vertical/\")\n",
        "  \n",
        "# # Defining augmentation parameters and generating 5 samples\n",
        "# p.flip_left_right(0.5)\n",
        "# p.black_and_white(0.1)\n",
        "# p.rotate(0.3, 10, 10)\n",
        "# p.skew(0.4, 0.5)\n",
        "# p.zoom(probability = 0.2, min_factor = 1.1, max_factor = 1.5)\n",
        "# p.sample(55)"
      ],
      "metadata": {
        "colab": {
          "base_uri": "https://localhost:8080/"
        },
        "id": "z-dLQO5JD3Al",
        "outputId": "026aaad4-d3fc-42b9-dd87-32a03c3c0a25"
      },
      "execution_count": null,
      "outputs": [
        {
          "output_type": "stream",
          "name": "stdout",
          "text": [
            "Initialised with 241 image(s) found.\n",
            "Output directory set to /content/drive/MyDrive/data/CNN/lab_internals/1st_train/vertical/output."
          ]
        },
        {
          "output_type": "stream",
          "name": "stderr",
          "text": [
            "Processing <PIL.PngImagePlugin.PngImageFile image mode=L size=512x512 at 0x7F07B73261A0>: 100%|██████████| 55/55 [00:00<00:00, 57.48 Samples/s]\n"
          ]
        }
      ]
    },
    {
      "cell_type": "code",
      "source": [
        "#reading the augmented images\n",
        "a=[]\n",
        "folder_dir =\"/content/drive/MyDrive/data/CNN/lab_internals/1st_train/vertical/output/\"\n",
        "for images in os.listdir(folder_dir):\n",
        "  if (images.endswith(\".png\")):\n",
        "    x=folder_dir+images\n",
        "    a.append(cv2.imread(x))\n",
        "vertical1=np.array(a)\n",
        "print(len(vertical1))"
      ],
      "metadata": {
        "colab": {
          "base_uri": "https://localhost:8080/"
        },
        "id": "nS_k_dADE0AX",
        "outputId": "ee6d532b-198c-4827-f45e-a57e32327258"
      },
      "execution_count": null,
      "outputs": [
        {
          "output_type": "stream",
          "name": "stdout",
          "text": [
            "55\n"
          ]
        }
      ]
    },
    {
      "cell_type": "code",
      "source": [
        "print(vertical1.shape)"
      ],
      "metadata": {
        "colab": {
          "base_uri": "https://localhost:8080/"
        },
        "id": "w-i8-VjOJ1h6",
        "outputId": "67d73323-42be-4781-cd74-adaf7807bb39"
      },
      "execution_count": null,
      "outputs": [
        {
          "output_type": "stream",
          "name": "stdout",
          "text": [
            "(55, 512, 512, 3)\n"
          ]
        }
      ]
    },
    {
      "cell_type": "code",
      "source": [
        "vertical=np.concatenate((vertical, vertical1), axis=0)"
      ],
      "metadata": {
        "id": "wkTal2d8FJf3"
      },
      "execution_count": null,
      "outputs": []
    },
    {
      "cell_type": "code",
      "source": [
        "print(len(horizontal))\n",
        "print(len(vertical))"
      ],
      "metadata": {
        "colab": {
          "base_uri": "https://localhost:8080/"
        },
        "id": "IuzRe-V8MIv4",
        "outputId": "a7961e6d-db17-4597-cd21-6aea0994696a"
      },
      "execution_count": null,
      "outputs": [
        {
          "output_type": "stream",
          "name": "stdout",
          "text": [
            "255\n",
            "255\n"
          ]
        }
      ]
    },
    {
      "cell_type": "code",
      "source": [
        "images = np.concatenate((horizontal, vertical), axis = 0)\n",
        "print(images.shape)\n",
        "label= np.concatenate((np.zeros(horizontal.shape[0]), np.ones(vertical.shape[0])), axis = 0)\n",
        "print(label.shape)"
      ],
      "metadata": {
        "colab": {
          "base_uri": "https://localhost:8080/"
        },
        "id": "3-R1yFPfKsfR",
        "outputId": "ef9856f0-d4ea-4099-9b11-3c0dc1ab6b69"
      },
      "execution_count": null,
      "outputs": [
        {
          "output_type": "stream",
          "name": "stdout",
          "text": [
            "(510, 512, 512, 3)\n",
            "(510,)\n"
          ]
        }
      ]
    },
    {
      "cell_type": "code",
      "source": [
        "from sklearn.model_selection import train_test_split\n",
        "X_train,X_test,Y_train,Y_test=train_test_split(images,label,test_size=0.20, random_state=42)"
      ],
      "metadata": {
        "id": "BGSus35xLJw2"
      },
      "execution_count": null,
      "outputs": []
    },
    {
      "cell_type": "code",
      "source": [
        "model = Sequential()\n",
        "model.add(Conv2D(32, (3, 3), activation='relu', input_shape=(images.shape[1], images.shape[2], 3)))\n",
        "model.add(MaxPooling2D((2, 2)))\n",
        "model.add(Conv2D(64, (3, 3), activation='relu'))\n",
        "model.add(MaxPooling2D((2, 2)))\n",
        "model.add(Conv2D(64, (3, 3), activation='relu'))\n",
        "model.add(Flatten())\n",
        "model.add(Dense(64, activation='relu'))\n",
        "model.add(Dense(1, activation='sigmoid'))\n",
        "\n",
        "# Compile model\n",
        "model.compile(optimizer='adam', loss='binary_crossentropy', metrics=['accuracy'])\n",
        "model.summary()"
      ],
      "metadata": {
        "colab": {
          "base_uri": "https://localhost:8080/"
        },
        "id": "EKTg5eXkNwAU",
        "outputId": "95f83d64-2cf1-4cc0-9b3d-377570787ce9"
      },
      "execution_count": null,
      "outputs": [
        {
          "output_type": "stream",
          "name": "stdout",
          "text": [
            "Model: \"sequential\"\n",
            "_________________________________________________________________\n",
            " Layer (type)                Output Shape              Param #   \n",
            "=================================================================\n",
            " conv2d (Conv2D)             (None, 510, 510, 32)      896       \n",
            "                                                                 \n",
            " max_pooling2d (MaxPooling2D  (None, 255, 255, 32)     0         \n",
            " )                                                               \n",
            "                                                                 \n",
            " conv2d_1 (Conv2D)           (None, 253, 253, 64)      18496     \n",
            "                                                                 \n",
            " max_pooling2d_1 (MaxPooling  (None, 126, 126, 64)     0         \n",
            " 2D)                                                             \n",
            "                                                                 \n",
            " conv2d_2 (Conv2D)           (None, 124, 124, 64)      36928     \n",
            "                                                                 \n",
            " flatten (Flatten)           (None, 984064)            0         \n",
            "                                                                 \n",
            " dense (Dense)               (None, 64)                62980160  \n",
            "                                                                 \n",
            " dense_1 (Dense)             (None, 1)                 65        \n",
            "                                                                 \n",
            "=================================================================\n",
            "Total params: 63,036,545\n",
            "Trainable params: 63,036,545\n",
            "Non-trainable params: 0\n",
            "_________________________________________________________________\n"
          ]
        }
      ]
    },
    {
      "cell_type": "code",
      "source": [
        "history = model.fit( X_train, Y_train, epochs=10, batch_size=32, validation_data=(X_test, Y_test))"
      ],
      "metadata": {
        "colab": {
          "base_uri": "https://localhost:8080/"
        },
        "id": "hPeSN0o8NzO5",
        "outputId": "196c0757-c951-4840-8d20-19a74429e74c"
      },
      "execution_count": null,
      "outputs": [
        {
          "output_type": "stream",
          "name": "stdout",
          "text": [
            "Epoch 1/10\n",
            "13/13 [==============================] - 194s 15s/step - loss: 17.4349 - accuracy: 0.9583 - val_loss: 1.6202e-25 - val_accuracy: 1.0000\n",
            "Epoch 2/10\n",
            "13/13 [==============================] - 195s 15s/step - loss: 0.8651 - accuracy: 0.9951 - val_loss: 0.0952 - val_accuracy: 0.9902\n",
            "Epoch 3/10\n",
            "13/13 [==============================] - 191s 15s/step - loss: 5.3253 - accuracy: 0.9902 - val_loss: 0.0000e+00 - val_accuracy: 1.0000\n",
            "Epoch 4/10\n",
            "13/13 [==============================] - 202s 15s/step - loss: 0.9813 - accuracy: 0.9951 - val_loss: 0.0000e+00 - val_accuracy: 1.0000\n",
            "Epoch 5/10\n",
            "13/13 [==============================] - 210s 16s/step - loss: 5.1027e-07 - accuracy: 1.0000 - val_loss: 0.0000e+00 - val_accuracy: 1.0000\n",
            "Epoch 6/10\n",
            "13/13 [==============================] - 211s 16s/step - loss: 4.7931e-07 - accuracy: 1.0000 - val_loss: 4.1582e-36 - val_accuracy: 1.0000\n",
            "Epoch 7/10\n",
            "13/13 [==============================] - 228s 18s/step - loss: 2.7586e-07 - accuracy: 1.0000 - val_loss: 1.5528e-34 - val_accuracy: 1.0000\n",
            "Epoch 8/10\n",
            "13/13 [==============================] - 216s 17s/step - loss: 1.7835e-07 - accuracy: 1.0000 - val_loss: 3.7766e-34 - val_accuracy: 1.0000\n",
            "Epoch 9/10\n",
            "13/13 [==============================] - 199s 15s/step - loss: 1.2350e-07 - accuracy: 1.0000 - val_loss: 4.6447e-34 - val_accuracy: 1.0000\n",
            "Epoch 10/10\n",
            "13/13 [==============================] - 203s 16s/step - loss: 9.9485e-08 - accuracy: 1.0000 - val_loss: 4.8849e-34 - val_accuracy: 1.0000\n"
          ]
        }
      ]
    },
    {
      "cell_type": "code",
      "source": [
        "\n",
        "# summarize history for accuracy\n",
        "plt.plot(history.history['accuracy'])\n",
        "plt.plot(history.history['val_accuracy'])\n",
        "plt.title('model accuracy')\n",
        "plt.ylabel('accuracy')\n",
        "plt.xlabel('epoch')\n",
        "plt.legend(['Train', 'Validation'], loc='upper left')\n",
        "plt.show()\n",
        "# summarize history for loss\n",
        "plt.plot(history.history['loss'])\n",
        "plt.plot(history.history['val_loss'])\n",
        "plt.title('model loss')\n",
        "plt.ylabel('loss')\n",
        "plt.xlabel('epoch')\n",
        "plt.legend(['Train', 'Validation'], loc='upper left')\n",
        "plt.show()"
      ],
      "metadata": {
        "colab": {
          "base_uri": "https://localhost:8080/",
          "height": 927
        },
        "id": "bZbAsAcUKcF8",
        "outputId": "2002ab38-34bb-43bd-c6ae-a78842576d29"
      },
      "execution_count": null,
      "outputs": [
        {
          "output_type": "display_data",
          "data": {
            "text/plain": [
              "<Figure size 640x480 with 1 Axes>"
            ],
            "image/png": "[encoded data removed]"
          },
          "metadata": {}
        },
        {
          "output_type": "display_data",
          "data": {
            "text/plain": [
              "<Figure size 640x480 with 1 Axes>"
            ],
            "image/png": "[encoded data removed]"
          },
          "metadata": {}
        }
      ]
    },
    {
      "cell_type": "code",
      "source": [],
      "metadata": {
        "id": "GCz4MsgaUCUJ"
      },
      "execution_count": null,
      "outputs": []
    }
  ]
}